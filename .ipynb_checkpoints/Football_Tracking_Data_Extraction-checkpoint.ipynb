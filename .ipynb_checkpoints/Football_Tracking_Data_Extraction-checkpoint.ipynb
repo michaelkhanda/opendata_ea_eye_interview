{
 "cells": [
  {
   "cell_type": "code",
   "execution_count": 1,
   "id": "8ff77475",
   "metadata": {},
   "outputs": [],
   "source": [
    "import json\n",
    "\n",
    "# Define the path to the directory containing match data\n",
    "data_directory = \"/Users/michaelkhanda/Desktop/EA_EYE/opendata_ea_eye_interview/data/\"\n",
    "\n",
    "# Define the match ID of interest\n",
    "match_id_of_interest = 3442  # Replace with your chosen match ID\n",
    "\n",
    "# Load the \"matches.json\" file to find the relevant match data\n",
    "with open(data_directory + \"matches.json\", \"r\") as matches_file:\n",
    "    matches_data = json.load(matches_file)\n",
    "\n",
    "# Find the match data for the specified match ID\n",
    "match_data = None\n",
    "for match in matches_data:\n",
    "    if match[\"id\"] == match_id_of_interest:\n",
    "        match_data = match\n",
    "        break\n",
    "\n",
    "        \n",
    "# Check if the match data is found\n",
    "if match_data is None:\n",
    "    print(f\"Match with ID {match_id_of_interest} not found.\")\n",
    "else:\n",
    "    # Extract the path to the \"structured_data.json\" file for the specified match\n",
    "    structured_data_path = data_directory + \"matches/\" + str(match_id_of_interest) + \"/structured_data.json\"\n",
    "\n",
    "    # Load the tracking data from the \"structured_data.json\" file\n",
    "    with open(structured_data_path, \"r\") as structured_data_file:\n",
    "        tracking_data = json.load(structured_data_file)\n",
    "\n",
    "    # You now have the tracking data for the specified match in the \"tracking_data\" variable.\n",
    "    # You can further process and analyze this data in your Jupyter Notebook.\n"
   ]
  },
  {
   "cell_type": "code",
   "execution_count": 2,
   "id": "013734b5",
   "metadata": {},
   "outputs": [
    {
     "name": "stdout",
     "output_type": "stream",
     "text": [
      "[{'possession': {'trackable_object': None, 'group': None}, 'frame': 0, 'data': [], 'period': None, 'time': None}, {'possession': {'trackable_object': None, 'group': None}, 'frame': 1, 'data': [], 'period': None, 'time': None}, {'possession': {'trackable_object': None, 'group': None}, 'frame': 2, 'data': [], 'period': None, 'time': None}, {'possession': {'trackable_object': None, 'group': None}, 'frame': 3, 'data': [], 'period': None, 'time': None}, {'possession': {'trackable_object': None, 'group': None}, 'frame': 4, 'data': [], 'period': None, 'time': None}]\n"
     ]
    }
   ],
   "source": [
    "# Load tracking data (already extracted in previous steps)\n",
    "# tracking_data contains the tracking data for the specified match\n",
    "\n",
    "# Display the first few rows of the tracking data\n",
    "print(tracking_data[:5])  # Adjust the number to display more or fewer rows"
   ]
  },
  {
   "cell_type": "code",
   "execution_count": 3,
   "id": "2fb067e2",
   "metadata": {},
   "outputs": [
    {
     "name": "stdout",
     "output_type": "stream",
     "text": [
      "<class 'pandas.core.frame.DataFrame'>\n",
      "RangeIndex: 66972 entries, 0 to 66971\n",
      "Data columns (total 5 columns):\n",
      " #   Column      Non-Null Count  Dtype  \n",
      "---  ------      --------------  -----  \n",
      " 0   possession  66972 non-null  object \n",
      " 1   frame       66972 non-null  int64  \n",
      " 2   data        66972 non-null  object \n",
      " 3   period      55837 non-null  float64\n",
      " 4   time        55837 non-null  object \n",
      "dtypes: float64(1), int64(1), object(3)\n",
      "memory usage: 2.6+ MB\n",
      "None\n",
      "                                           possession  frame  \\\n",
      "959  {'trackable_object': None, 'group': 'home team'}    959   \n",
      "960  {'trackable_object': None, 'group': 'home team'}    960   \n",
      "961  {'trackable_object': None, 'group': 'home team'}    961   \n",
      "962  {'trackable_object': None, 'group': 'home team'}    962   \n",
      "963  {'trackable_object': None, 'group': 'home team'}    963   \n",
      "\n",
      "                                                  data  period     time     x  \\\n",
      "959  [{'y': 6.89446055321, 'x': -24.1504126503, 'tr...     1.0  0:00.00  None   \n",
      "960  [{'y': 6.75764863832, 'x': -23.9707497188, 'tr...     1.0  0:00.10  None   \n",
      "961  [{'y': 6.76729903902, 'x': -23.8377275467, 'tr...     1.0  0:00.20  None   \n",
      "962  [{'y': 6.92341175533, 'x': -23.751346134, 'tra...     1.0  0:00.30  None   \n",
      "963  [{'y': 7.34233236313, 'x': -23.7500232515, 'tr...     1.0  0:00.40  None   \n",
      "\n",
      "        y  \n",
      "959  None  \n",
      "960  None  \n",
      "961  None  \n",
      "962  None  \n",
      "963  None  \n"
     ]
    },
    {
     "data": {
      "image/png": "[encoded data removed]",
      "text/plain": [
       "<Figure size 1200x800 with 1 Axes>"
      ]
     },
     "metadata": {},
     "output_type": "display_data"
    }
   ],
   "source": [
    "import pandas as pd\n",
    "import matplotlib.pyplot as plt\n",
    "\n",
    "# Convert the tracking data into a DataFrame for easier analysis\n",
    "tracking_df = pd.DataFrame(tracking_data)\n",
    "\n",
    "# Display basic information about the DataFrame\n",
    "print(tracking_df.info())\n",
    "\n",
    "# Let's assume you want to focus on player positions for a specific period (e.g., period 1)\n",
    "period_1_data = tracking_df[tracking_df['period'] == 1]\n",
    "\n",
    "# Extract 'x' and 'y' coordinates from the 'data' column\n",
    "player_positions = period_1_data[period_1_data['possession'].notna()]\n",
    "\n",
    "# Define a function to extract 'x' and 'y' coordinates from the 'data' column\n",
    "def extract_coordinates(data, coord):\n",
    "    if isinstance(data, dict) and coord in data:\n",
    "        return data[coord]\n",
    "    else:\n",
    "        return None\n",
    "\n",
    "# Apply the function to extract 'x' and 'y' coordinates\n",
    "player_positions['x'] = player_positions['data'].apply(lambda data: extract_coordinates(data, 'x'))\n",
    "player_positions['y'] = player_positions['data'].apply(lambda data: extract_coordinates(data, 'y'))\n",
    "\n",
    "# Filter player positions for 'home team' and 'away team'\n",
    "player_positions = player_positions[player_positions['possession'].apply(lambda x: 'group' in x and x['group'] in ['home team', 'away team'])]\n",
    "\n",
    "# Display the first few rows of player positions\n",
    "print(player_positions.head())\n",
    "\n",
    "# Plot player positions to visualize player movements\n",
    "plt.figure(figsize=(12, 8))\n",
    "home_team_positions = player_positions[player_positions['possession'].apply(lambda x: x['group'] == 'home team')]\n",
    "away_team_positions = player_positions[player_positions['possession'].apply(lambda x: x['group'] == 'away team')]\n",
    "\n",
    "plt.scatter(home_team_positions['x'], home_team_positions['y'], c='blue', label='Home Team', alpha=0.5)\n",
    "plt.scatter(away_team_positions['x'], away_team_positions['y'], c='red', label='Away Team', alpha=0.5)\n",
    "plt.xlabel('X Coordinate')\n",
    "plt.ylabel('Y Coordinate')\n",
    "plt.title('Player Positions (Period 1)')\n",
    "plt.legend()\n",
    "plt.show()\n",
    "\n",
    "# You can continue with more in-depth analysis and visualization based on your specific objectives.\n"
   ]
  },
  {
   "cell_type": "code",
   "execution_count": 4,
   "id": "a653fd70",
   "metadata": {},
   "outputs": [
    {
     "name": "stdout",
     "output_type": "stream",
     "text": [
      "Ball Possession Percentage for Team A: 50.00%\n",
      "Ball Possession Percentage for Team B: 50.00%\n"
     ]
    }
   ],
   "source": [
    "import pandas as pd\n",
    "\n",
    "# Sample tracking data with 'team' column indicating possession\n",
    "data = {\n",
    "    'frame': [1, 2, 3, 4, 5, 6],\n",
    "    'team': ['A', 'A', 'B', 'B', 'A', 'B']\n",
    "}\n",
    "\n",
    "tracking_df = pd.DataFrame(data)\n",
    "\n",
    "# Calculate ball possession percentage for Team A and Team B\n",
    "total_frames = tracking_df['frame'].nunique()\n",
    "possession_counts = tracking_df['team'].value_counts()\n",
    "\n",
    "possession_percentage_team_a = (possession_counts.get('A', 0) / total_frames) * 100\n",
    "possession_percentage_team_b = (possession_counts.get('B', 0) / total_frames) * 100\n",
    "\n",
    "print(f\"Ball Possession Percentage for Team A: {possession_percentage_team_a:.2f}%\")\n",
    "print(f\"Ball Possession Percentage for Team B: {possession_percentage_team_b:.2f}%\")\n"
   ]
  },
  {
   "cell_type": "code",
   "execution_count": 5,
   "id": "1a344a69",
   "metadata": {},
   "outputs": [
    {
     "name": "stdout",
     "output_type": "stream",
     "text": [
      "group_name\n",
      "Team A    50.0\n",
      "Team B     0.0\n",
      "Name: possession, dtype: float64\n"
     ]
    }
   ],
   "source": [
    "import pandas as pd\n",
    "\n",
    "# Sample tracking data with 'group_name' and 'possession' columns\n",
    "data = {\n",
    "    'frame': [1, 2, 3, 4, 5, 6],\n",
    "    'group_name': ['Team A', 'Team A', 'Team B', 'Team B', 'Team A', 'Team B'],\n",
    "    'possession': [1, 1, 0, 0, 1, 0]  # 1 indicates possession, 0 indicates no possession\n",
    "}\n",
    "\n",
    "tracking_df = pd.DataFrame(data)\n",
    "\n",
    "# Calculate ball possession percentage for each team\n",
    "total_frames = tracking_df['frame'].nunique()\n",
    "team_possession = tracking_df.groupby('group_name')['possession'].sum() / total_frames * 100\n",
    "\n",
    "# Display ball possession percentage for each team\n",
    "print(team_possession)\n"
   ]
  },
  {
   "cell_type": "code",
   "execution_count": 6,
   "id": "a9dcf27a",
   "metadata": {},
   "outputs": [
    {
     "name": "stdout",
     "output_type": "stream",
     "text": [
      "team\n",
      "TeamA    50.0\n",
      "TeamB     0.0\n",
      "Name: possession, dtype: float64\n"
     ]
    }
   ],
   "source": [
    "import pandas as pd\n",
    "\n",
    "# Sample tracking data with player IDs\n",
    "data = {\n",
    "    'frame': [1, 2, 3, 4, 5, 6],\n",
    "    'player_id': ['player1', 'player2', 'player1', 'player2', 'player1', 'player2'],\n",
    "    'possession': [1, 0, 1, 0, 1, 0],\n",
    "}\n",
    "\n",
    "tracking_df = pd.DataFrame(data)\n",
    "\n",
    "# Create a dictionary to map player IDs to teams\n",
    "player_team_mapping = {\n",
    "    'player1': 'TeamA',\n",
    "    'player2': 'TeamB',\n",
    "}\n",
    "\n",
    "# Add a 'team' column based on the mapping\n",
    "tracking_df['team'] = tracking_df['player_id'].map(player_team_mapping)\n",
    "\n",
    "# Calculate ball possession percentage for each team\n",
    "total_frames = tracking_df['frame'].nunique()\n",
    "team_possession = tracking_df.groupby('team')['possession'].sum() / total_frames * 100\n",
    "\n",
    "# Display ball possession percentage for each team\n",
    "print(team_possession)\n",
    "\n"
   ]
  },
  {
   "cell_type": "code",
   "execution_count": 7,
   "id": "09c9b4fe",
   "metadata": {},
   "outputs": [
    {
     "data": {
      "image/png": "[encoded data removed]",
      "text/plain": [
       "<Figure size 1000x600 with 1 Axes>"
      ]
     },
     "metadata": {},
     "output_type": "display_data"
    }
   ],
   "source": [
    "import matplotlib.pyplot as plt\n",
    "\n",
    "def plot_goals(goals_df):\n",
    "    # Create a figure and axis for the field\n",
    "    fig, ax = plt.subplots(figsize=(10, 6))\n",
    "\n",
    "    # Plot the soccer field (you may need to adjust field dimensions)\n",
    "    ax.plot([0, 0, 100, 100, 0], [0, 50, 50, 0, 0], color='green')\n",
    "\n",
    "    # Plot goals\n",
    "    for _, goal in goals_df.iterrows():\n",
    "        x, y = goal['x'], goal['y']\n",
    "        ax.plot(x, y, 'ro')  # 'ro' represents a red circle for goals\n",
    "\n",
    "    # Set axis limits and labels\n",
    "    ax.set_xlim(0, 100)\n",
    "    ax.set_ylim(0, 50)\n",
    "    ax.set_xlabel('X Position')\n",
    "    ax.set_ylabel('Y Position')\n",
    "\n",
    "    # Add a title\n",
    "    ax.set_title('Goals Visualization')\n",
    "\n",
    "    # Show the plot\n",
    "    plt.show()\n",
    "\n",
    "# Sample goal data (replace this with your own goal data)\n",
    "goals_data = {\n",
    "    'x': [10, 80],\n",
    "    'y': [25, 25],\n",
    "}\n",
    "\n",
    "goals_df = pd.DataFrame(goals_data)\n",
    "\n",
    "# Plot the goals on the field\n",
    "plot_goals(goals_df)\n"
   ]
  },
  {
   "cell_type": "code",
   "execution_count": 8,
   "id": "1ba59dbb",
   "metadata": {},
   "outputs": [
    {
     "ename": "FileNotFoundError",
     "evalue": "[Errno 2] No such file or directory: 'player_performance_data.csv'",
     "output_type": "error",
     "traceback": [
      "\u001b[0;31m---------------------------------------------------------------------------\u001b[0m",
      "\u001b[0;31mFileNotFoundError\u001b[0m                         Traceback (most recent call last)",
      "\u001b[0;32m/var/folders/gt/2rwqh0s57lz9g2_vgnmc4q800000gn/T/ipykernel_64630/142033479.py\u001b[0m in \u001b[0;36m<module>\u001b[0;34m\u001b[0m\n\u001b[1;32m      5\u001b[0m \u001b[0;34m\u001b[0m\u001b[0m\n\u001b[1;32m      6\u001b[0m \u001b[0;31m# Load your prepared dataset\u001b[0m\u001b[0;34m\u001b[0m\u001b[0;34m\u001b[0m\u001b[0m\n\u001b[0;32m----> 7\u001b[0;31m \u001b[0mplayer_data\u001b[0m \u001b[0;34m=\u001b[0m \u001b[0mpd\u001b[0m\u001b[0;34m.\u001b[0m\u001b[0mread_csv\u001b[0m\u001b[0;34m(\u001b[0m\u001b[0;34m\"player_performance_data.csv\"\u001b[0m\u001b[0;34m)\u001b[0m\u001b[0;34m\u001b[0m\u001b[0;34m\u001b[0m\u001b[0m\n\u001b[0m\u001b[1;32m      8\u001b[0m \u001b[0;34m\u001b[0m\u001b[0m\n\u001b[1;32m      9\u001b[0m \u001b[0;31m# Define your features (X) and target (y)\u001b[0m\u001b[0;34m\u001b[0m\u001b[0;34m\u001b[0m\u001b[0m\n",
      "\u001b[0;32m~/opt/anaconda3/lib/python3.9/site-packages/pandas/util/_decorators.py\u001b[0m in \u001b[0;36mwrapper\u001b[0;34m(*args, **kwargs)\u001b[0m\n\u001b[1;32m    309\u001b[0m                     \u001b[0mstacklevel\u001b[0m\u001b[0;34m=\u001b[0m\u001b[0mstacklevel\u001b[0m\u001b[0;34m,\u001b[0m\u001b[0;34m\u001b[0m\u001b[0;34m\u001b[0m\u001b[0m\n\u001b[1;32m    310\u001b[0m                 )\n\u001b[0;32m--> 311\u001b[0;31m             \u001b[0;32mreturn\u001b[0m \u001b[0mfunc\u001b[0m\u001b[0;34m(\u001b[0m\u001b[0;34m*\u001b[0m\u001b[0margs\u001b[0m\u001b[0;34m,\u001b[0m \u001b[0;34m**\u001b[0m\u001b[0mkwargs\u001b[0m\u001b[0;34m)\u001b[0m\u001b[0;34m\u001b[0m\u001b[0;34m\u001b[0m\u001b[0m\n\u001b[0m\u001b[1;32m    312\u001b[0m \u001b[0;34m\u001b[0m\u001b[0m\n\u001b[1;32m    313\u001b[0m         \u001b[0;32mreturn\u001b[0m \u001b[0mwrapper\u001b[0m\u001b[0;34m\u001b[0m\u001b[0;34m\u001b[0m\u001b[0m\n",
      "\u001b[0;32m~/opt/anaconda3/lib/python3.9/site-packages/pandas/io/parsers/readers.py\u001b[0m in \u001b[0;36mread_csv\u001b[0;34m(filepath_or_buffer, sep, delimiter, header, names, index_col, usecols, squeeze, prefix, mangle_dupe_cols, dtype, engine, converters, true_values, false_values, skipinitialspace, skiprows, skipfooter, nrows, na_values, keep_default_na, na_filter, verbose, skip_blank_lines, parse_dates, infer_datetime_format, keep_date_col, date_parser, dayfirst, cache_dates, iterator, chunksize, compression, thousands, decimal, lineterminator, quotechar, quoting, doublequote, escapechar, comment, encoding, encoding_errors, dialect, error_bad_lines, warn_bad_lines, on_bad_lines, delim_whitespace, low_memory, memory_map, float_precision, storage_options)\u001b[0m\n\u001b[1;32m    676\u001b[0m     \u001b[0mkwds\u001b[0m\u001b[0;34m.\u001b[0m\u001b[0mupdate\u001b[0m\u001b[0;34m(\u001b[0m\u001b[0mkwds_defaults\u001b[0m\u001b[0;34m)\u001b[0m\u001b[0;34m\u001b[0m\u001b[0;34m\u001b[0m\u001b[0m\n\u001b[1;32m    677\u001b[0m \u001b[0;34m\u001b[0m\u001b[0m\n\u001b[0;32m--> 678\u001b[0;31m     \u001b[0;32mreturn\u001b[0m \u001b[0m_read\u001b[0m\u001b[0;34m(\u001b[0m\u001b[0mfilepath_or_buffer\u001b[0m\u001b[0;34m,\u001b[0m \u001b[0mkwds\u001b[0m\u001b[0;34m)\u001b[0m\u001b[0;34m\u001b[0m\u001b[0;34m\u001b[0m\u001b[0m\n\u001b[0m\u001b[1;32m    679\u001b[0m \u001b[0;34m\u001b[0m\u001b[0m\n\u001b[1;32m    680\u001b[0m \u001b[0;34m\u001b[0m\u001b[0m\n",
      "\u001b[0;32m~/opt/anaconda3/lib/python3.9/site-packages/pandas/io/parsers/readers.py\u001b[0m in \u001b[0;36m_read\u001b[0;34m(filepath_or_buffer, kwds)\u001b[0m\n\u001b[1;32m    573\u001b[0m \u001b[0;34m\u001b[0m\u001b[0m\n\u001b[1;32m    574\u001b[0m     \u001b[0;31m# Create the parser.\u001b[0m\u001b[0;34m\u001b[0m\u001b[0;34m\u001b[0m\u001b[0m\n\u001b[0;32m--> 575\u001b[0;31m     \u001b[0mparser\u001b[0m \u001b[0;34m=\u001b[0m \u001b[0mTextFileReader\u001b[0m\u001b[0;34m(\u001b[0m\u001b[0mfilepath_or_buffer\u001b[0m\u001b[0;34m,\u001b[0m \u001b[0;34m**\u001b[0m\u001b[0mkwds\u001b[0m\u001b[0;34m)\u001b[0m\u001b[0;34m\u001b[0m\u001b[0;34m\u001b[0m\u001b[0m\n\u001b[0m\u001b[1;32m    576\u001b[0m \u001b[0;34m\u001b[0m\u001b[0m\n\u001b[1;32m    577\u001b[0m     \u001b[0;32mif\u001b[0m \u001b[0mchunksize\u001b[0m \u001b[0;32mor\u001b[0m \u001b[0miterator\u001b[0m\u001b[0;34m:\u001b[0m\u001b[0;34m\u001b[0m\u001b[0;34m\u001b[0m\u001b[0m\n",
      "\u001b[0;32m~/opt/anaconda3/lib/python3.9/site-packages/pandas/io/parsers/readers.py\u001b[0m in \u001b[0;36m__init__\u001b[0;34m(self, f, engine, **kwds)\u001b[0m\n\u001b[1;32m    930\u001b[0m \u001b[0;34m\u001b[0m\u001b[0m\n\u001b[1;32m    931\u001b[0m         \u001b[0mself\u001b[0m\u001b[0;34m.\u001b[0m\u001b[0mhandles\u001b[0m\u001b[0;34m:\u001b[0m \u001b[0mIOHandles\u001b[0m \u001b[0;34m|\u001b[0m \u001b[0;32mNone\u001b[0m \u001b[0;34m=\u001b[0m \u001b[0;32mNone\u001b[0m\u001b[0;34m\u001b[0m\u001b[0;34m\u001b[0m\u001b[0m\n\u001b[0;32m--> 932\u001b[0;31m         \u001b[0mself\u001b[0m\u001b[0;34m.\u001b[0m\u001b[0m_engine\u001b[0m \u001b[0;34m=\u001b[0m \u001b[0mself\u001b[0m\u001b[0;34m.\u001b[0m\u001b[0m_make_engine\u001b[0m\u001b[0;34m(\u001b[0m\u001b[0mf\u001b[0m\u001b[0;34m,\u001b[0m \u001b[0mself\u001b[0m\u001b[0;34m.\u001b[0m\u001b[0mengine\u001b[0m\u001b[0;34m)\u001b[0m\u001b[0;34m\u001b[0m\u001b[0;34m\u001b[0m\u001b[0m\n\u001b[0m\u001b[1;32m    933\u001b[0m \u001b[0;34m\u001b[0m\u001b[0m\n\u001b[1;32m    934\u001b[0m     \u001b[0;32mdef\u001b[0m \u001b[0mclose\u001b[0m\u001b[0;34m(\u001b[0m\u001b[0mself\u001b[0m\u001b[0;34m)\u001b[0m\u001b[0;34m:\u001b[0m\u001b[0;34m\u001b[0m\u001b[0;34m\u001b[0m\u001b[0m\n",
      "\u001b[0;32m~/opt/anaconda3/lib/python3.9/site-packages/pandas/io/parsers/readers.py\u001b[0m in \u001b[0;36m_make_engine\u001b[0;34m(self, f, engine)\u001b[0m\n\u001b[1;32m   1214\u001b[0m             \u001b[0;31m# \"Union[str, PathLike[str], ReadCsvBuffer[bytes], ReadCsvBuffer[str]]\"\u001b[0m\u001b[0;34m\u001b[0m\u001b[0;34m\u001b[0m\u001b[0m\n\u001b[1;32m   1215\u001b[0m             \u001b[0;31m# , \"str\", \"bool\", \"Any\", \"Any\", \"Any\", \"Any\", \"Any\"\u001b[0m\u001b[0;34m\u001b[0m\u001b[0;34m\u001b[0m\u001b[0m\n\u001b[0;32m-> 1216\u001b[0;31m             self.handles = get_handle(  # type: ignore[call-overload]\n\u001b[0m\u001b[1;32m   1217\u001b[0m                 \u001b[0mf\u001b[0m\u001b[0;34m,\u001b[0m\u001b[0;34m\u001b[0m\u001b[0;34m\u001b[0m\u001b[0m\n\u001b[1;32m   1218\u001b[0m                 \u001b[0mmode\u001b[0m\u001b[0;34m,\u001b[0m\u001b[0;34m\u001b[0m\u001b[0;34m\u001b[0m\u001b[0m\n",
      "\u001b[0;32m~/opt/anaconda3/lib/python3.9/site-packages/pandas/io/common.py\u001b[0m in \u001b[0;36mget_handle\u001b[0;34m(path_or_buf, mode, encoding, compression, memory_map, is_text, errors, storage_options)\u001b[0m\n\u001b[1;32m    784\u001b[0m         \u001b[0;32mif\u001b[0m \u001b[0mioargs\u001b[0m\u001b[0;34m.\u001b[0m\u001b[0mencoding\u001b[0m \u001b[0;32mand\u001b[0m \u001b[0;34m\"b\"\u001b[0m \u001b[0;32mnot\u001b[0m \u001b[0;32min\u001b[0m \u001b[0mioargs\u001b[0m\u001b[0;34m.\u001b[0m\u001b[0mmode\u001b[0m\u001b[0;34m:\u001b[0m\u001b[0;34m\u001b[0m\u001b[0;34m\u001b[0m\u001b[0m\n\u001b[1;32m    785\u001b[0m             \u001b[0;31m# Encoding\u001b[0m\u001b[0;34m\u001b[0m\u001b[0;34m\u001b[0m\u001b[0m\n\u001b[0;32m--> 786\u001b[0;31m             handle = open(\n\u001b[0m\u001b[1;32m    787\u001b[0m                 \u001b[0mhandle\u001b[0m\u001b[0;34m,\u001b[0m\u001b[0;34m\u001b[0m\u001b[0;34m\u001b[0m\u001b[0m\n\u001b[1;32m    788\u001b[0m                 \u001b[0mioargs\u001b[0m\u001b[0;34m.\u001b[0m\u001b[0mmode\u001b[0m\u001b[0;34m,\u001b[0m\u001b[0;34m\u001b[0m\u001b[0;34m\u001b[0m\u001b[0m\n",
      "\u001b[0;31mFileNotFoundError\u001b[0m: [Errno 2] No such file or directory: 'player_performance_data.csv'"
     ]
    }
   ],
   "source": [
    "import pandas as pd\n",
    "from sklearn.model_selection import train_test_split\n",
    "from sklearn.linear_model import LinearRegression\n",
    "from sklearn.metrics import mean_squared_error\n",
    "\n",
    "# Load your prepared dataset\n",
    "player_data = pd.read_csv(\"player_performance_data.csv\")\n",
    "\n",
    "# Define your features (X) and target (y)\n",
    "X = player_data[['Feature1', 'Feature2', ...]]  # Use relevant features\n",
    "y = player_data['PerformanceMetric']  # Target variable\n",
    "\n",
    "# Split data into training and testing sets\n",
    "X_train, X_test, y_train, y_test = train_test_split(X, y, test_size=0.2, random_state=42)\n",
    "\n",
    "# Initialize and train a linear regression model\n",
    "model = LinearRegression()\n",
    "model.fit(X_train, y_train)\n",
    "\n",
    "# Make predictions on the test set\n",
    "y_pred = model.predict(X_test)\n",
    "\n",
    "# Evaluate the model's performance\n",
    "mse = mean_squared_error(y_test, y_pred)\n",
    "print(f\"Mean Squared Error: {mse}\")\n"
   ]
  },
  {
   "cell_type": "code",
   "execution_count": null,
   "id": "7ecd4577",
   "metadata": {},
   "outputs": [],
   "source": []
  }
 ],
 "metadata": {
  "kernelspec": {
   "display_name": "Python 3 (ipykernel)",
   "language": "python",
   "name": "python3"
  },
  "language_info": {
   "codemirror_mode": {
    "name": "ipython",
    "version": 3
   },
   "file_extension": ".py",
   "mimetype": "text/x-python",
   "name": "python",
   "nbconvert_exporter": "python",
   "pygments_lexer": "ipython3",
   "version": "3.9.13"
  }
 },
 "nbformat": 4,
 "nbformat_minor": 5
}
