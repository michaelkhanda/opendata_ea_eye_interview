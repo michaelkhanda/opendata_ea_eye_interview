{
 "cells": [
  {
   "cell_type": "markdown",
   "id": "5d687cbd",
   "metadata": {},
   "source": [
    "# Loading the Data from Statsbomb\n",
    "\n",
    "One of the main benefits of working with kloppy is that it loads metadata with the event data. This metadata includes teams (name, ground and provider id) and players (name, jersey number, optional position and provider id). Using this metadata, it becomes very easy to create an analysis that is usable by humans, because it includes names instead of only numbers.\n",
    "\n"
   ]
  },
  {
   "cell_type": "code",
   "execution_count": 1,
   "id": "1723dae9",
   "metadata": {},
   "outputs": [],
   "source": [
    "from kloppy import statsbomb"
   ]
  },
  {
   "cell_type": "code",
   "execution_count": 2,
   "id": "9afd1e59",
   "metadata": {},
   "outputs": [
    {
     "name": "stderr",
     "output_type": "stream",
     "text": [
      "/Users/michaelkhanda/opt/anaconda3/lib/python3.9/site-packages/kloppy/_providers/statsbomb.py:66: UserWarning: \n",
      "\n",
      "You are about to use StatsBomb public data.\n",
      "By using this data, you are agreeing to the user agreement. \n",
      "The user agreement can be found here: https://github.com/statsbomb/open-data/blob/master/LICENSE.pdf\n",
      "\n",
      "  warnings.warn(\n"
     ]
    }
   ],
   "source": [
    "dataset = statsbomb.load_open_data(event_types=[\"pass\", \"shot\"])"
   ]
  },
  {
   "cell_type": "code",
   "execution_count": 3,
   "id": "ac1a1b70",
   "metadata": {},
   "outputs": [],
   "source": [
    "metadata = dataset.metadata\n",
    "home_team, away_team = metadata.teams"
   ]
  },
  {
   "cell_type": "code",
   "execution_count": 4,
   "id": "b5ef32ab",
   "metadata": {},
   "outputs": [
    {
     "name": "stdout",
     "output_type": "stream",
     "text": [
      "Barcelona - Deportivo Alavés\n"
     ]
    }
   ],
   "source": [
    "home_team, away_team = dataset.metadata.teams\n",
    "print(f\"{home_team} - {away_team}\")\n"
   ]
  },
  {
   "cell_type": "code",
   "execution_count": 5,
   "id": "b9da5c40",
   "metadata": {},
   "outputs": [
    {
     "name": "stdout",
     "output_type": "stream",
     "text": [
      "home - Barcelona\n",
      "away - Deportivo Alavés\n"
     ]
    }
   ],
   "source": [
    "print(f\"{home_team.ground} - {home_team}\")\n",
    "print(f\"{away_team.ground} - {away_team}\")"
   ]
  },
  {
   "cell_type": "code",
   "execution_count": 6,
   "id": "1a0bdff1",
   "metadata": {},
   "outputs": [
    {
     "data": {
      "text/plain": [
       "'statsbomb team id: 217 - 206'"
      ]
     },
     "execution_count": 6,
     "metadata": {},
     "output_type": "execute_result"
    }
   ],
   "source": [
    "# get provider id for teamss\n",
    "f\"statsbomb team id: {home_team.team_id} - {away_team.team_id}\""
   ]
  },
  {
   "cell_type": "code",
   "execution_count": 7,
   "id": "eabccd07",
   "metadata": {},
   "outputs": [
    {
     "data": {
      "text/plain": [
       "['Malcom Filipe Silva de Oliveira (14)',\n",
       " 'Philippe Coutinho Correia (7)',\n",
       " 'Sergio Busquets i Burgos (5)',\n",
       " 'Jordi Alba Ramos (18)',\n",
       " 'Gerard Piqué Bernabéu (3)',\n",
       " 'Luis Alberto Suárez Díaz (9)',\n",
       " 'Ivan Rakitić (4)',\n",
       " 'Ousmane Dembélé (11)',\n",
       " 'Samuel Yves Umtiti (23)',\n",
       " 'Lionel Andrés Messi Cuccittini (10)',\n",
       " 'Nélson Cabral Semedo (2)',\n",
       " 'Sergi Roberto Carnicer (20)',\n",
       " 'Clément Lenglet (15)',\n",
       " 'Rafael Alcântara do Nascimento (12)',\n",
       " 'Arturo Erasmo Vidal Pardo (22)',\n",
       " 'Jasper Cillessen (13)',\n",
       " 'Arthur Henrique Ramos de Oliveira Melo (8)',\n",
       " 'Marc-André ter Stegen (1)']"
      ]
     },
     "execution_count": 7,
     "metadata": {},
     "output_type": "execute_result"
    }
   ],
   "source": [
    "[f\"{player} ({player.jersey_no})\" for player in home_team.players]"
   ]
  },
  {
   "cell_type": "code",
   "execution_count": 8,
   "id": "569904b7",
   "metadata": {},
   "outputs": [
    {
     "name": "stdout",
     "output_type": "stream",
     "text": [
      "Player: Malcom Filipe Silva de Oliveira - 3109\n",
      "Player: Philippe Coutinho Correia - 3501\n",
      "Player: Sergio Busquets i Burgos - 5203\n",
      "Player: Jordi Alba Ramos - 5211\n",
      "Player: Gerard Piqué Bernabéu - 5213\n",
      "Player: Luis Alberto Suárez Díaz - 5246\n",
      "Player: Ivan Rakitić - 5470\n",
      "Player: Ousmane Dembélé - 5477\n",
      "Player: Samuel Yves Umtiti - 5492\n",
      "Player: Lionel Andrés Messi Cuccittini - 5503\n",
      "Player: Nélson Cabral Semedo - 6374\n",
      "Player: Sergi Roberto Carnicer - 6379\n",
      "Player: Clément Lenglet - 6826\n",
      "Player: Rafael Alcântara do Nascimento - 6998\n",
      "Player: Arturo Erasmo Vidal Pardo - 8206\n",
      "Player: Jasper Cillessen - 8652\n",
      "Player: Arthur Henrique Ramos de Oliveira Melo - 11392\n",
      "Player: Marc-André ter Stegen - 20055\n"
     ]
    }
   ],
   "source": [
    "for player in home_team.players:\n",
    "    print(f\"Player: {player} - {player.player_id}\")"
   ]
  },
  {
   "cell_type": "code",
   "execution_count": 9,
   "id": "158f0625",
   "metadata": {},
   "outputs": [
    {
     "name": "stdout",
     "output_type": "stream",
     "text": [
      "Name:Luis Alberto Suárez Díaz\n",
      "Jersey number: 9\n"
     ]
    }
   ],
   "source": [
    "suarez = home_team.get_player_by_id(5246)\n",
    "print(f\"Name:{suarez.name}\")\n",
    "print(f\"Jersey number: {suarez.jersey_no}\")"
   ]
  },
  {
   "cell_type": "code",
   "execution_count": 10,
   "id": "302d8de3",
   "metadata": {},
   "outputs": [
    {
     "name": "stdout",
     "output_type": "stream",
     "text": [
      "Data in terms of passes and shots: 1191\n"
     ]
    }
   ],
   "source": [
    "print(f\"Data in terms of passes and shots: {len(dataset.events)}\")"
   ]
  },
  {
   "cell_type": "code",
   "execution_count": 11,
   "id": "b3f87804",
   "metadata": {},
   "outputs": [
    {
     "name": "stdout",
     "output_type": "stream",
     "text": [
      "Nélson Cabral Semedo\n",
      "Barcelona\n",
      "Teams are comparable? False\n"
     ]
    }
   ],
   "source": [
    "# get player from first event\n",
    "player = dataset.events[9].player\n",
    "print(player)\n",
    "print(player.team)\n",
    "print(f\"Teams are comparable? {player.team == away_team}\")"
   ]
  },
  {
   "cell_type": "code",
   "execution_count": 12,
   "id": "cdcdb9cc",
   "metadata": {},
   "outputs": [
    {
     "name": "stdout",
     "output_type": "stream",
     "text": [
      "Jonathan Rodríguez Menéndez has 11 passes\n",
      "Guillermo Alfonso Maripán Loaysa has 16 passes\n",
      "Sergio Busquets i Burgos has 83 passes\n",
      "Ivan Rakitić has 138 passes\n",
      "Ousmane Dembélé has 67 passes\n",
      "Jordi Alba Ramos has 128 passes\n",
      "Víctor Laguardia Cisneros has 11 passes\n",
      "Marc-André ter Stegen has 27 passes\n",
      "Gerard Piqué Bernabéu has 81 passes\n",
      "Nélson Cabral Semedo has 32 passes\n",
      "Sergi Roberto Carnicer has 89 passes\n",
      "Samuel Yves Umtiti has 65 passes\n",
      "Lionel Andrés Messi Cuccittini has 91 passes\n",
      "Rubén Duarte Sánchez has 25 passes\n",
      "Ibai Gómez Pérez has 34 passes\n",
      "Mubarak Wakaso has 22 passes\n",
      "Fernando Pacheco Flores has 26 passes\n",
      "Manuel Alejandro García Sánchez has 21 passes\n",
      "Rubén Sobrino Pozuelo has 19 passes\n",
      "Luis Alberto Suárez Díaz has 39 passes\n",
      "Martín Aguirregabiria Padilla has 20 passes\n",
      "Daniel Alejandro Torres Rojas has 16 passes\n",
      "Philippe Coutinho Correia has 52 passes\n",
      "Jorge Franco Alviz has 12 passes\n",
      "Adrián Marín Gómez has 7 passes\n",
      "Borja González Tomás has 6 passes\n",
      "Arthur Henrique Ramos de Oliveira Melo has 18 passes\n",
      "Arturo Erasmo Vidal Pardo has 7 passes\n"
     ]
    }
   ],
   "source": [
    "from collections import defaultdict\n",
    "\n",
    "passes_per_player = defaultdict(list)\n",
    "for event in dataset.events:\n",
    "    if event.event_name == \"pass\":\n",
    "        passes_per_player[event.player].append(event)\n",
    "        \n",
    "for player, passes in passes_per_player.items():\n",
    "    print(f\"{player} has {len(passes)} passes\")"
   ]
  },
  {
   "cell_type": "code",
   "execution_count": 13,
   "id": "159f1129",
   "metadata": {},
   "outputs": [],
   "source": [
    "suarez_passes_df = (\n",
    "    dataset\n",
    "    .filter(lambda event: event.player == suarez)\n",
    "    .to_df(additional_columns={\n",
    "        \"player_name\": lambda event: str(event.player)\n",
    "    })\n",
    ")"
   ]
  },
  {
   "cell_type": "code",
   "execution_count": 14,
   "id": "0148c3a9",
   "metadata": {},
   "outputs": [
    {
     "name": "stdout",
     "output_type": "stream",
     "text": [
      "                                   additional_columns\n",
      "0   {'player_name': <function <lambda> at 0x7fb301...\n",
      "1   {'player_name': <function <lambda> at 0x7fb301...\n",
      "2   {'player_name': <function <lambda> at 0x7fb301...\n",
      "3   {'player_name': <function <lambda> at 0x7fb301...\n",
      "4   {'player_name': <function <lambda> at 0x7fb301...\n",
      "5   {'player_name': <function <lambda> at 0x7fb301...\n",
      "6   {'player_name': <function <lambda> at 0x7fb301...\n",
      "7   {'player_name': <function <lambda> at 0x7fb301...\n",
      "8   {'player_name': <function <lambda> at 0x7fb301...\n",
      "9   {'player_name': <function <lambda> at 0x7fb301...\n",
      "10  {'player_name': <function <lambda> at 0x7fb301...\n",
      "11  {'player_name': <function <lambda> at 0x7fb301...\n",
      "12  {'player_name': <function <lambda> at 0x7fb301...\n",
      "13  {'player_name': <function <lambda> at 0x7fb301...\n",
      "14  {'player_name': <function <lambda> at 0x7fb301...\n",
      "15  {'player_name': <function <lambda> at 0x7fb301...\n",
      "16  {'player_name': <function <lambda> at 0x7fb301...\n",
      "17  {'player_name': <function <lambda> at 0x7fb301...\n",
      "18  {'player_name': <function <lambda> at 0x7fb301...\n",
      "19  {'player_name': <function <lambda> at 0x7fb301...\n",
      "20  {'player_name': <function <lambda> at 0x7fb301...\n",
      "21  {'player_name': <function <lambda> at 0x7fb301...\n",
      "22  {'player_name': <function <lambda> at 0x7fb301...\n",
      "23  {'player_name': <function <lambda> at 0x7fb301...\n",
      "24  {'player_name': <function <lambda> at 0x7fb301...\n",
      "25  {'player_name': <function <lambda> at 0x7fb301...\n",
      "26  {'player_name': <function <lambda> at 0x7fb301...\n",
      "27  {'player_name': <function <lambda> at 0x7fb301...\n",
      "28  {'player_name': <function <lambda> at 0x7fb301...\n",
      "29  {'player_name': <function <lambda> at 0x7fb301...\n",
      "30  {'player_name': <function <lambda> at 0x7fb301...\n",
      "31  {'player_name': <function <lambda> at 0x7fb301...\n",
      "32  {'player_name': <function <lambda> at 0x7fb301...\n",
      "33  {'player_name': <function <lambda> at 0x7fb301...\n",
      "34  {'player_name': <function <lambda> at 0x7fb301...\n",
      "35  {'player_name': <function <lambda> at 0x7fb301...\n",
      "36  {'player_name': <function <lambda> at 0x7fb301...\n",
      "37  {'player_name': <function <lambda> at 0x7fb301...\n",
      "38  {'player_name': <function <lambda> at 0x7fb301...\n",
      "39  {'player_name': <function <lambda> at 0x7fb301...\n",
      "40  {'player_name': <function <lambda> at 0x7fb301...\n",
      "41  {'player_name': <function <lambda> at 0x7fb301...\n",
      "42  {'player_name': <function <lambda> at 0x7fb301...\n"
     ]
    }
   ],
   "source": [
    "# Assuming you have already defined the suarez_passes_df DataFrame\n",
    "print(suarez_passes_df)"
   ]
  },
  {
   "cell_type": "code",
   "execution_count": 15,
   "id": "40f82648",
   "metadata": {},
   "outputs": [
    {
     "ename": "ImportError",
     "evalue": "cannot import name 'docstring' from 'matplotlib' (/Users/michaelkhanda/opt/anaconda3/lib/python3.9/site-packages/matplotlib/__init__.py)",
     "output_type": "error",
     "traceback": [
      "\u001b[0;31m---------------------------------------------------------------------------\u001b[0m",
      "\u001b[0;31mImportError\u001b[0m                               Traceback (most recent call last)",
      "\u001b[0;32m/var/folders/gt/2rwqh0s57lz9g2_vgnmc4q800000gn/T/ipykernel_74524/4225128704.py\u001b[0m in \u001b[0;36m<module>\u001b[0;34m\u001b[0m\n\u001b[0;32m----> 1\u001b[0;31m \u001b[0;32mfrom\u001b[0m \u001b[0mmplsoccer\u001b[0m\u001b[0;34m.\u001b[0m\u001b[0mpitch\u001b[0m \u001b[0;32mimport\u001b[0m \u001b[0mPitch\u001b[0m\u001b[0;34m\u001b[0m\u001b[0;34m\u001b[0m\u001b[0m\n\u001b[0m\u001b[1;32m      2\u001b[0m \u001b[0mpitch\u001b[0m \u001b[0;34m=\u001b[0m \u001b[0mPitch\u001b[0m\u001b[0;34m(\u001b[0m\u001b[0mpitch_color\u001b[0m\u001b[0;34m=\u001b[0m\u001b[0;34m'grass'\u001b[0m\u001b[0;34m,\u001b[0m \u001b[0mline_color\u001b[0m\u001b[0;34m=\u001b[0m\u001b[0;34m'white'\u001b[0m\u001b[0;34m,\u001b[0m \u001b[0mstripe\u001b[0m\u001b[0;34m=\u001b[0m\u001b[0;32mTrue\u001b[0m\u001b[0;34m)\u001b[0m\u001b[0;34m\u001b[0m\u001b[0;34m\u001b[0m\u001b[0m\n\u001b[1;32m      3\u001b[0m \u001b[0mfig\u001b[0m\u001b[0;34m,\u001b[0m \u001b[0max\u001b[0m \u001b[0;34m=\u001b[0m \u001b[0mpitch\u001b[0m\u001b[0;34m.\u001b[0m\u001b[0mdraw\u001b[0m\u001b[0;34m(\u001b[0m\u001b[0;34m)\u001b[0m\u001b[0;34m\u001b[0m\u001b[0;34m\u001b[0m\u001b[0m\n",
      "\u001b[0;32m~/opt/anaconda3/lib/python3.9/site-packages/mplsoccer/__init__.py\u001b[0m in \u001b[0;36m<module>\u001b[0;34m\u001b[0m\n\u001b[1;32m      6\u001b[0m \u001b[0;32mfrom\u001b[0m \u001b[0;34m.\u001b[0m\u001b[0mcm\u001b[0m \u001b[0;32mimport\u001b[0m \u001b[0;34m*\u001b[0m\u001b[0;34m\u001b[0m\u001b[0;34m\u001b[0m\u001b[0m\n\u001b[1;32m      7\u001b[0m \u001b[0;32mfrom\u001b[0m \u001b[0;34m.\u001b[0m\u001b[0mlinecollection\u001b[0m \u001b[0;32mimport\u001b[0m \u001b[0;34m*\u001b[0m\u001b[0;34m\u001b[0m\u001b[0;34m\u001b[0m\u001b[0m\n\u001b[0;32m----> 8\u001b[0;31m \u001b[0;32mfrom\u001b[0m \u001b[0;34m.\u001b[0m\u001b[0mpitch\u001b[0m \u001b[0;32mimport\u001b[0m \u001b[0;34m*\u001b[0m\u001b[0;34m\u001b[0m\u001b[0;34m\u001b[0m\u001b[0m\n\u001b[0m\u001b[1;32m      9\u001b[0m \u001b[0;32mfrom\u001b[0m \u001b[0;34m.\u001b[0m\u001b[0mquiver\u001b[0m \u001b[0;32mimport\u001b[0m \u001b[0;34m*\u001b[0m\u001b[0;34m\u001b[0m\u001b[0;34m\u001b[0m\u001b[0m\n\u001b[1;32m     10\u001b[0m \u001b[0;32mfrom\u001b[0m \u001b[0;34m.\u001b[0m\u001b[0mradar_chart\u001b[0m \u001b[0;32mimport\u001b[0m \u001b[0;34m*\u001b[0m\u001b[0;34m\u001b[0m\u001b[0;34m\u001b[0m\u001b[0m\n",
      "\u001b[0;32m~/opt/anaconda3/lib/python3.9/site-packages/mplsoccer/pitch.py\u001b[0m in \u001b[0;36m<module>\u001b[0;34m\u001b[0m\n\u001b[1;32m      5\u001b[0m \u001b[0;32mfrom\u001b[0m \u001b[0mmatplotlib\u001b[0m\u001b[0;34m.\u001b[0m\u001b[0mlines\u001b[0m \u001b[0;32mimport\u001b[0m \u001b[0mLine2D\u001b[0m\u001b[0;34m\u001b[0m\u001b[0;34m\u001b[0m\u001b[0m\n\u001b[1;32m      6\u001b[0m \u001b[0;34m\u001b[0m\u001b[0m\n\u001b[0;32m----> 7\u001b[0;31m \u001b[0;32mfrom\u001b[0m \u001b[0mmplsoccer\u001b[0m\u001b[0;34m.\u001b[0m\u001b[0m_pitch_plot\u001b[0m \u001b[0;32mimport\u001b[0m \u001b[0mBasePitchPlot\u001b[0m\u001b[0;34m\u001b[0m\u001b[0;34m\u001b[0m\u001b[0m\n\u001b[0m\u001b[1;32m      8\u001b[0m \u001b[0;34m\u001b[0m\u001b[0m\n\u001b[1;32m      9\u001b[0m \u001b[0m__all__\u001b[0m \u001b[0;34m=\u001b[0m \u001b[0;34m[\u001b[0m\u001b[0;34m'Pitch'\u001b[0m\u001b[0;34m,\u001b[0m \u001b[0;34m'VerticalPitch'\u001b[0m\u001b[0;34m]\u001b[0m\u001b[0;34m\u001b[0m\u001b[0;34m\u001b[0m\u001b[0m\n",
      "\u001b[0;32m~/opt/anaconda3/lib/python3.9/site-packages/mplsoccer/_pitch_plot.py\u001b[0m in \u001b[0;36m<module>\u001b[0;34m\u001b[0m\n\u001b[1;32m      5\u001b[0m \u001b[0;32mimport\u001b[0m \u001b[0mnumpy\u001b[0m \u001b[0;32mas\u001b[0m \u001b[0mnp\u001b[0m\u001b[0;34m\u001b[0m\u001b[0;34m\u001b[0m\u001b[0m\n\u001b[1;32m      6\u001b[0m \u001b[0;32mimport\u001b[0m \u001b[0mseaborn\u001b[0m \u001b[0;32mas\u001b[0m \u001b[0msns\u001b[0m\u001b[0;34m\u001b[0m\u001b[0;34m\u001b[0m\u001b[0m\n\u001b[0;32m----> 7\u001b[0;31m \u001b[0;32mfrom\u001b[0m \u001b[0mmatplotlib\u001b[0m \u001b[0;32mimport\u001b[0m \u001b[0mdocstring\u001b[0m\u001b[0;34m\u001b[0m\u001b[0;34m\u001b[0m\u001b[0m\n\u001b[0m\u001b[1;32m      8\u001b[0m \u001b[0;32mfrom\u001b[0m \u001b[0mmatplotlib\u001b[0m \u001b[0;32mimport\u001b[0m \u001b[0mpatches\u001b[0m\u001b[0;34m\u001b[0m\u001b[0;34m\u001b[0m\u001b[0m\n\u001b[1;32m      9\u001b[0m \u001b[0;32mfrom\u001b[0m \u001b[0mmatplotlib\u001b[0m \u001b[0;32mimport\u001b[0m \u001b[0mrcParams\u001b[0m\u001b[0;34m\u001b[0m\u001b[0;34m\u001b[0m\u001b[0m\n",
      "\u001b[0;31mImportError\u001b[0m: cannot import name 'docstring' from 'matplotlib' (/Users/michaelkhanda/opt/anaconda3/lib/python3.9/site-packages/matplotlib/__init__.py)"
     ]
    }
   ],
   "source": [
    "from mplsoccer.pitch import Pitch\n",
    "pitch = Pitch(pitch_color='grass', line_color='white', stripe=True)\n",
    "fig, ax = pitch.draw()"
   ]
  },
  {
   "cell_type": "code",
   "execution_count": null,
   "id": "bac35f38",
   "metadata": {},
   "outputs": [],
   "source": []
  }
 ],
 "metadata": {
  "kernelspec": {
   "display_name": "Python 3 (ipykernel)",
   "language": "python",
   "name": "python3"
  },
  "language_info": {
   "codemirror_mode": {
    "name": "ipython",
    "version": 3
   },
   "file_extension": ".py",
   "mimetype": "text/x-python",
   "name": "python",
   "nbconvert_exporter": "python",
   "pygments_lexer": "ipython3",
   "version": "3.9.13"
  }
 },
 "nbformat": 4,
 "nbformat_minor": 5
}
