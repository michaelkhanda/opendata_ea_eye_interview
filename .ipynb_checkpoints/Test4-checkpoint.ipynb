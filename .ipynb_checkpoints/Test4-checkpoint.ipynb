{
 "cells": [
  {
   "cell_type": "code",
   "execution_count": 1,
   "id": "d3724fdf",
   "metadata": {},
   "outputs": [],
   "source": [
    "import json\n",
    "\n",
    "# Load the JSON data\n",
    "with open('/Users/michaelkhanda/Desktop/EA_EYE/opendata_ea_eye_interview/data/matches/2417/structured_data.json', 'r') as json_file:\n",
    "    data = json.load(json_file)"
   ]
  },
  {
   "cell_type": "code",
   "execution_count": 2,
   "id": "a9cd4b64",
   "metadata": {},
   "outputs": [
    {
     "name": "stdout",
     "output_type": "stream",
     "text": [
      "[   {   'data': [],\n",
      "        'frame': 0,\n",
      "        'period': None,\n",
      "        'possession': {'group': None, 'trackable_object': None},\n",
      "        'time': None},\n",
      "    {   'data': [],\n",
      "        'frame': 1,\n",
      "        'period': None,\n",
      "        'possession': {'group': None, 'trackable_object': None},\n",
      "        'time': None},\n",
      "    {   'data': [],\n",
      "        'frame': 2,\n",
      "        'period': None,\n",
      "        'possession': {'group': None, 'trackable_object': None},\n",
      "        'time': None},\n",
      "    {   'data': [],\n",
      "        'frame': 3,\n",
      "        'period': None,\n",
      "        'possession': {'group': None, 'trackable_object': None},\n",
      "        'time': None},\n",
      "    {   'data': [],\n",
      "        'frame': 4,\n",
      "        'period': None,\n",
      "        'possession': {'group': None, 'trackable_object': None},\n",
      "        'time': None},\n",
      "    {   'data': [],\n",
      "        'frame': 5,\n",
      "        'period': None,\n",
      "        'possession': {'group': None, 'trackable_object': None},\n",
      "        'time': None},\n",
      "    {   'data': [],\n",
      "        'frame': 6,\n",
      "        'period': None,\n",
      "        'possession': {'group': None, 'trackable_object': None},\n",
      "        'time': None},\n",
      "    {   'data': [],\n",
      "        'frame': 7,\n",
      "        'period': None,\n",
      "        'possession': {'group': None, 'trackable_object': None},\n",
      "        'time': None},\n",
      "    {   'data': [],\n",
      "        'frame': 8,\n",
      "        'period': None,\n",
      "        'possession': {'group': None, 'trackable_object': None},\n",
      "        'time': None},\n",
      "    {   'data': [],\n",
      "        'frame': 9,\n",
      "        'period': None,\n",
      "        'possession': {'group': None, 'trackable_object': None},\n",
      "        'time': None}]\n"
     ]
    }
   ],
   "source": [
    "import pprint\n",
    "\n",
    "# Create a pretty printer objects\n",
    "pp = pprint.PrettyPrinter(indent=4)\n",
    "\n",
    "# Print a sample of the data (e.g., first 10 frames)\n",
    "sample_data = data[:10]  # You can change the number to adjust the sample size\n",
    "pp.pprint(sample_data)\n",
    "\n"
   ]
  },
  {
   "cell_type": "code",
   "execution_count": 3,
   "id": "5fc28325",
   "metadata": {},
   "outputs": [],
   "source": [
    "# Initialize dictionaries to store player positions by team\n",
    "player_positions = {'home team': {}, 'away team': {}}\n",
    "\n",
    "# Iterate through frames\n",
    "for frame in data:\n",
    "    # Check if the frame contains player tracking data\n",
    "    if 'data' in frame:\n",
    "        for item in frame['data']:\n",
    "            group_name = item.get('group_name')\n",
    "            trackable_object = item.get('trackable_object')\n",
    "            x = item.get('x')\n",
    "            y = item.get('y')\n",
    "            z = item.get('z')  # Only for the ball\n",
    "            \n",
    "            # Check if it's player tracking data\n",
    "            if group_name in ('home team', 'away team') and trackable_object:\n",
    "                # Store player position in the respective team's dictionary\n",
    "                team_dict = player_positions[group_name]\n",
    "                if trackable_object not in team_dict:\n",
    "                    team_dict[trackable_object] = {\n",
    "                        'x': [], 'y': [], 'z': []\n",
    "                    }\n",
    "                team_dict[trackable_object]['x'].append(x)\n",
    "                team_dict[trackable_object]['y'].append(y)\n",
    "                if z is not None:\n",
    "                    team_dict[trackable_object]['z'].append(z)\n",
    "\n",
    "# Now, player_positions contains the tracked positions of players by team.\n",
    "# You can calculate various performance metrics based on this data.\n",
    "# For example, you can calculate player heatmaps, passing accuracy, tackles, etc.\n"
   ]
  },
  {
   "cell_type": "code",
   "execution_count": 4,
   "id": "4b341c18",
   "metadata": {},
   "outputs": [],
   "source": [
    "import matplotlib.pyplot as plt\n",
    "\n",
    "# Calculate and plot a heatmap for a specific player on the home team\n",
    "player_id = 'player1'  # Replace with the actual player ID\n",
    "player_data = player_positions['home team'].get(player_id, None)\n",
    "\n",
    "if player_data:\n",
    "    x_positions = player_data['x']\n",
    "    y_positions = player_data['y']\n",
    "    plt.hist2d(x_positions, y_positions, bins=(50, 50), cmap=plt.cm.jet)\n",
    "    plt.colorbar()\n",
    "    plt.title(f'Heatmap for Player {player_id}')\n",
    "    plt.xlabel('X Coordinate')\n",
    "    plt.ylabel('Y Coordinate')\n",
    "    plt.show()\n"
   ]
  },
  {
   "cell_type": "code",
   "execution_count": 5,
   "id": "ef6a2aa1",
   "metadata": {},
   "outputs": [
    {
     "name": "stdout",
     "output_type": "stream",
     "text": [
      "Unique Player IDs: set()\n"
     ]
    }
   ],
   "source": [
    "# Initialize a set to store unique player IDs\n",
    "player_ids = set()\n",
    "\n",
    "# Iterate through frames\n",
    "for frame in data:\n",
    "    # Check if the frame contains player tracking data\n",
    "    if 'data' in frame:\n",
    "        for item in frame['data']:\n",
    "            group_name = item.get('group_name')\n",
    "            trackable_object = item.get('trackable_object')\n",
    "            \n",
    "            # Check if it's player tracking data\n",
    "            if group_name in ('home team', 'away team') and trackable_object:\n",
    "                # Add the player ID to the set\n",
    "                player_ids.add(trackable_object)\n",
    "\n",
    "# The `player_ids` set now contains unique player IDs\n",
    "print(\"Unique Player IDs:\", player_ids)\n"
   ]
  },
  {
   "cell_type": "code",
   "execution_count": 6,
   "id": "39dd5086",
   "metadata": {
    "scrolled": true
   },
   "outputs": [
    {
     "ename": "NameError",
     "evalue": "name 'start_time' is not defined",
     "output_type": "error",
     "traceback": [
      "\u001b[0;31m---------------------------------------------------------------------------\u001b[0m",
      "\u001b[0;31mNameError\u001b[0m                                 Traceback (most recent call last)",
      "\u001b[0;32m/var/folders/gt/2rwqh0s57lz9g2_vgnmc4q800000gn/T/ipykernel_68611/1890274688.py\u001b[0m in \u001b[0;36m<module>\u001b[0;34m\u001b[0m\n\u001b[1;32m     17\u001b[0m \u001b[0;34m\u001b[0m\u001b[0m\n\u001b[1;32m     18\u001b[0m \u001b[0;31m# Filter the DataFrame\u001b[0m\u001b[0;34m\u001b[0m\u001b[0;34m\u001b[0m\u001b[0m\n\u001b[0;32m---> 19\u001b[0;31m tracking = tracking[(tracking[\"time\"] > start_time) &\n\u001b[0m\u001b[1;32m     20\u001b[0m                     \u001b[0;34m(\u001b[0m\u001b[0mtracking\u001b[0m\u001b[0;34m[\u001b[0m\u001b[0;34m\"time\"\u001b[0m\u001b[0;34m]\u001b[0m \u001b[0;34m<\u001b[0m \u001b[0mend_time\u001b[0m\u001b[0;34m)\u001b[0m \u001b[0;34m&\u001b[0m\u001b[0;34m\u001b[0m\u001b[0;34m\u001b[0m\u001b[0m\n\u001b[1;32m     21\u001b[0m                     (tracking[\"period\"] == half)]\n",
      "\u001b[0;31mNameError\u001b[0m: name 'start_time' is not defined"
     ]
    }
   ],
   "source": [
    "import json\n",
    "import pandas as pd\n",
    "\n",
    "# File paths for local JSON files\n",
    "meta_file_path = \"/Users/michaelkhanda/Desktop/EA_EYE/opendata_ea_eye_interview/data/matches/2417/match_data.json\"\n",
    "tracking_file_path = \"/Users/michaelkhanda/Desktop/EA_EYE/opendata_ea_eye_interview/data/matches/2417/structured_data.json\"\n",
    "\n",
    "# Load meta data and actual tracking data from local files\n",
    "with open(meta_file_path, \"r\") as meta_file:\n",
    "    meta = json.load(meta_file)\n",
    "\n",
    "with open(tracking_file_path, \"r\") as tracking_file:\n",
    "    tracking_data = json.load(tracking_file)\n",
    "\n",
    "# Convert tracking_data to a DataFrame\n",
    "tracking = pd.DataFrame(tracking_data)\n",
    "\n",
    "# Filter the DataFrame\n",
    "tracking = tracking[(tracking[\"time\"] > start_time) &\n",
    "                    (tracking[\"time\"] < end_time) &\n",
    "                    (tracking[\"period\"] == half)]\n"
   ]
  },
  {
   "cell_type": "code",
   "execution_count": null,
   "id": "22edf4e0",
   "metadata": {},
   "outputs": [],
   "source": []
  }
 ],
 "metadata": {
  "kernelspec": {
   "display_name": "Python 3 (ipykernel)",
   "language": "python",
   "name": "python3"
  },
  "language_info": {
   "codemirror_mode": {
    "name": "ipython",
    "version": 3
   },
   "file_extension": ".py",
   "mimetype": "text/x-python",
   "name": "python",
   "nbconvert_exporter": "python",
   "pygments_lexer": "ipython3",
   "version": "3.9.13"
  }
 },
 "nbformat": 4,
 "nbformat_minor": 5
}
